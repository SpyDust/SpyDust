{
 "cells": [
  {
   "cell_type": "code",
   "execution_count": 1,
   "id": "a562fffc",
   "metadata": {},
   "outputs": [
    {
     "name": "stdout",
     "output_type": "stream",
     "text": [
      "l_a computed\n",
      "readPAH computed\n",
      "Loaded previously computed Jpeisrf arrays from file.\n",
      "Tev table already exists at /Users/zzhang/Workspace/SpyDust/SpyDust/Data_Files/Tev_30a_30chi.txt.\n",
      "I(Zg<0, parabolic) stored\n",
      "I(rot, e, Zg <> 0) stored\n",
      "I(Zg<0, parabolic) stored\n",
      "I(rot, e, Zg <> 0) stored\n",
      "Gaunt factor stored\n"
     ]
    },
    {
     "name": "stderr",
     "output_type": "stream",
     "text": [
      "/Users/zzhang/Workspace/SpyDust/SpyDust/free_free.py:27: FutureWarning: The 'delim_whitespace' keyword in pd.read_csv is deprecated and will be removed in a future version. Use ``sep='\\s+'`` instead\n",
      "  data = pd.read_csv(gff_data_file, delim_whitespace=True, comment=';', header=None, names=['gamma2', 'u', 'gff'])\n"
     ]
    }
   ],
   "source": [
    "import sys\n",
    "import os\n",
    "import numpy as np\n",
    "import matplotlib.pyplot as plt\n",
    "from matplotlib.gridspec import GridSpec\n",
    "\n",
    "# Add the root directory of the package to sys.path\n",
    "sys.path.append('/Users/zzhang/Workspace/SpyDust/')\n",
    "sys.path.append('../')\n",
    "\n",
    "from grain_size import *\n"
   ]
  },
  {
   "cell_type": "code",
   "execution_count": null,
   "id": "613d47f8",
   "metadata": {},
   "outputs": [],
   "source": [
    "# grain_obj = Grain.grain_distribution()\n",
    "# f_a_beta = grain_obj.shape_and_size_dist(6, a_weighted=False, normalize=True)\n",
    "# a_tab = grain_obj.a_tab\n",
    "# a_dist = grain_obj.a_dist\n",
    "\n",
    "\n",
    "# # Fit the parametric model (grain_size_dist) of the grain size distribution to a_dist (the spdust built-in distbributions):\n",
    "# from scipy.optimize import curve_fit\n",
    "# from scipy.optimize import Bounds\n",
    "\n",
    "# bounds = Bounds([-4.0, -30, 0], [4.0, 30, 100])\n",
    "\n",
    "# def aux_grain_size_dist(log_a_tab, C, log_a0, sigma_inv):\n",
    "#     return np.log(grain_size_dist(np.exp(log_a_tab), C, log_a0, sigma_inv))\n",
    "\n",
    "# popt, pcov = curve_fit(aux_grain_size_dist, np.log(a_tab), np.log(a_dist), bounds=bounds)\n",
    "\n",
    "\n",
    "# plt.plot(np.log(a_tab), np.log(a_dist), label=\"spdust\")\n",
    "# plt.plot(np.log(a_tab), aux_grain_size_dist(np.log(a_tab), *popt), label=\"fit\")\n",
    "# plt.legend()\n",
    "# plt.xlabel(\"log(a)\")\n",
    "# plt.ylabel(\"log(dn/da)\")\n"
   ]
  },
  {
   "cell_type": "code",
   "execution_count": 2,
   "id": "e8ecac64",
   "metadata": {},
   "outputs": [
    {
     "name": "stderr",
     "output_type": "stream",
     "text": [
      "100%|██████████| 160000/160000 [00:32<00:00, 4853.76it/s]\n"
     ]
    }
   ],
   "source": [
    "parameter_list, freqs, CNM_SED_list = SED_list_given_env(CNM_params)\n",
    "# Save the parameter list and SED list\n",
    "np.save('CNM_parameter_list.npy', parameter_list)\n",
    "np.save('CNM_SED_list.npy', CNM_SED_list)\n",
    "np.save('freqs.npy', freqs)\n",
    "\n",
    "CNM_feature_list = fit_sed_ensemble(freqs, CNM_SED_list, parameter_list=parameter_list)\n",
    "np.save('/Users/zzhang/Workspace/SpyDust/tests/grain_size_analysis/CNM_feature_list.npy', CNM_feature_list)\n"
   ]
  },
  {
   "cell_type": "code",
   "execution_count": 5,
   "id": "b111d304",
   "metadata": {},
   "outputs": [
    {
     "data": {
      "text/plain": [
       "(array([29514., 34648., 21405., 19377., 13250.,  9526.,  7789.,  6226.,\n",
       "         4777.,  3206.,  2634.,  1713.,  1447.,   976.,  1134.,   519.,\n",
       "          767.,   495.,   197.,   400.]),\n",
       " array([0.25348475, 0.30388707, 0.35428939, 0.40469171, 0.45509403,\n",
       "        0.50549635, 0.55589867, 0.60630099, 0.65670331, 0.70710563,\n",
       "        0.75750795, 0.80791027, 0.85831259, 0.90871491, 0.95911723,\n",
       "        1.00951955, 1.05992188, 1.1103242 , 1.16072652, 1.21112884,\n",
       "        1.26153116]),\n",
       " <BarContainer object of 20 artists>)"
      ]
     },
     "execution_count": 5,
     "metadata": {},
     "output_type": "execute_result"
    },
    {
     "data": {
      "image/png": "[encoded data removed]",
      "text/plain": [
       "<Figure size 640x480 with 1 Axes>"
      ]
     },
     "metadata": {},
     "output_type": "display_data"
    }
   ],
   "source": [
    "plt.hist(CNM_feature_list[:, 1], bins=20)"
   ]
  },
  {
   "cell_type": "code",
   "execution_count": null,
   "id": "bfe55a5d",
   "metadata": {},
   "outputs": [],
   "source": [
    "# Create emulator with both forward and inverse capabilities\n",
    "CNM_feature_emulator = PolyEmu(parameter_list, \n",
    "                               CNM_feature_list, \n",
    "                                forward=True,              # Enable forward emulation: parameters → observables\n",
    "                                max_degree_forward=25,     # Max polynomial degree for forward mapping (lower for high-dimensional problems)\n",
    "                                RMSE_lower=0.01,\n",
    "                                fRMSE_tol=1e-1,\n",
    "                                )"
   ]
  },
  {
   "cell_type": "code",
   "execution_count": null,
   "id": "b4f64578",
   "metadata": {},
   "outputs": [],
   "source": [
    "CNM_logSED_emulator = PolyEmu(parameter_list, \n",
    "                            np.log(CNM_SED_list), \n",
    "                            forward=True,              # Enable forward emulation: parameters → observables\n",
    "                            max_degree_forward=20,     # Max polynomial degree for forward mapping (lower for high-dimensional problems)\n",
    "                            RMSE_lower=0.01,\n",
    "                            fRMSE_tol=3e-1,\n",
    "                            )"
   ]
  },
  {
   "cell_type": "code",
   "execution_count": null,
   "id": "e73efea3",
   "metadata": {},
   "outputs": [],
   "source": [
    "# Save the emulators with pickle\n",
    "\n",
    "import pickle\n",
    "\n",
    "with open(\"CNM_feature_emulator.pkl\", \"wb\") as f:\n",
    "    pickle.dump(CNM_feature_emulator, f)\n",
    "\n",
    "with open(\"CNM_logSED_emulator.pkl\", \"wb\") as f:\n",
    "    pickle.dump(CNM_logSED_emulator, f)"
   ]
  },
  {
   "cell_type": "markdown",
   "id": "f10e3e04",
   "metadata": {},
   "source": [
    "## Generate products for PDR"
   ]
  },
  {
   "cell_type": "code",
   "execution_count": null,
   "id": "8d09d133",
   "metadata": {},
   "outputs": [],
   "source": [
    "parameter_list, freqs, PDR_SED_list = SED_list_given_env(PDR_params)\n",
    "# Save the parameter list and SED list\n",
    "np.save('PDR_SED_list.npy', PDR_SED_list)\n",
    "\n",
    "PDR_feature_list = fit_sed_ensemble(freqs, PDR_SED_list, parameter_list=parameter_list)\n"
   ]
  },
  {
   "cell_type": "code",
   "execution_count": 11,
   "id": "93f70d0c",
   "metadata": {},
   "outputs": [
    {
     "data": {
      "text/plain": [
       "[<matplotlib.lines.Line2D at 0x3a7e96990>]"
      ]
     },
     "execution_count": 11,
     "metadata": {},
     "output_type": "execute_result"
    },
    {
     "data": {
      "image/png": "[encoded data removed]",
      "text/plain": [
       "<Figure size 640x480 with 1 Axes>"
      ]
     },
     "metadata": {},
     "output_type": "display_data"
    }
   ],
   "source": [
    "plt.loglog(freqs, PDR_SED_list[111800])"
   ]
  },
  {
   "cell_type": "code",
   "execution_count": null,
   "id": "2cebf2fc",
   "metadata": {},
   "outputs": [],
   "source": [
    "np.save('PDR_feature_list.npy', PDR_feature_list)"
   ]
  },
  {
   "cell_type": "code",
   "execution_count": null,
   "id": "b665b90a",
   "metadata": {},
   "outputs": [],
   "source": [
    "\n",
    "PDR_logSED_emulator = PolyEmu(parameter_list, \n",
    "                            np.log(PDR_SED_list), \n",
    "                            forward=True,              # Enable forward emulation: parameters → observables\n",
    "                            max_degree_forward=20,     # Max polynomial degree for forward mapping (lower for high-dimensional problems)\n",
    "                            RMSE_lower=0.01,\n",
    "                            fRMSE_tol=3e-1,\n",
    "                            )"
   ]
  },
  {
   "cell_type": "code",
   "execution_count": null,
   "id": "7c079fd8",
   "metadata": {},
   "outputs": [],
   "source": [
    "PDR_feature_emulator = PolyEmu(parameter_list, \n",
    "                                PDR_feature_list, \n",
    "                                forward=True,              # Enable forward emulation: parameters → observables\n",
    "                                max_degree_forward=25,     # Max polynomial degree for forward mapping (lower for high-dimensional problems)\n",
    "                                RMSE_lower=0.01,\n",
    "                                fRMSE_tol=1e-1,\n",
    "                                )"
   ]
  },
  {
   "cell_type": "code",
   "execution_count": null,
   "id": "1976bef2",
   "metadata": {},
   "outputs": [],
   "source": [
    "with open(\"PDR_feature_emulator.pkl\", \"wb\") as f:\n",
    "    pickle.dump(PDR_feature_emulator, f)\n",
    "with open(\"PDR_logSED_emulator.pkl\", \"wb\") as f:\n",
    "    pickle.dump(PDR_logSED_emulator, f)"
   ]
  },
  {
   "cell_type": "markdown",
   "id": "a19bc804",
   "metadata": {},
   "source": [
    "## Conclusions\n",
    "\n",
    "We closely follow spdust/SpyDust for the dust grain model.\n",
    "The grain size (volume equivalent radius) ranges from 3.64e-08 \\times 3.39e-7 cm.\n",
    "Grain geometry: grains smaller than 6e-08cm is assumed to be cylindrical disk-like grain with given thickness, d. Grains larger than 6e-8 cm are modeled as spherical grains.\n",
    "For the disk-like grain, our analysis will also consider two different thicknesses, d=3.35e-08 cm, which is used in the build-in model of spdust (and SpyDust), and another is its double, d=6.7e-08 cm.\n",
    "\n",
    "This analysis will focus on the SED characteristics (peak frequency and width) given by log-normal fitting.\n",
    "We will look into two scenarios: one is the SED of specific grain size, another is the SED of an distribution of grain size.\n",
    "Through these analysis, we hope to disentangle the roles of grain size, grain shape and grain size distribution, on the AME SED characteristics.\n",
    "\n",
    "\n",
    "\n",
    "### SED characteristic analyses with specific grain size and shape.\n",
    "- Smaller grains has higher peak frequency (as expected)\n",
    "- Disk-like grains: The SED of a flatter (more disk-like) grain has a higher peak frequency and a greater width.\n",
    "- The width of the log-normal SED fit can be affected by the grain size and shape, but it is more vulnerable to the the grain size distribution.\n"
   ]
  },
  {
   "cell_type": "markdown",
   "id": "c562caea",
   "metadata": {},
   "source": [
    "## Conclusions\n",
    "\n",
    "We adopt the dust grain model from spdust/SpyDust, which considers grains with volume-equivalent radii ranging from 3.64e-8 to 3.39e-7 cm. The grain geometry follows a size-dependent prescription: grains smaller than 6e-8 cm are modeled as cylindrical disk-like particles with specified thickness d, while larger grains (> 6e-8 cm) are treated as spherical particles.\n",
    "\n",
    "For disk-like grains, we examine two thickness configurations: d = 3.35e-8 cm (the default value in spdust/SpyDust) and d = 6.7e-8 cm (twice the default thickness). This comparison allows us to investigate the impact of grain flattening on emission properties.\n",
    "\n",
    "Our analysis focuses on characterizing spectral energy distribution (SED) properties through log-normal fitting, specifically examining peak frequency and spectral width. We investigate two complementary scenarios: (1) SEDs from individual grain sizes and shapes, and (2) ensemble SEDs from grain size distributions. Through this approach, we aim to disentangle the relative contributions of grain size, grain shape, and size distribution to the observed AME SED characteristics.\n",
    "\n",
    "### Key Findings\n",
    "\n",
    "- **Size dependence**: Smaller grains exhibit higher peak frequencies, consistent with theoretical expectations\n",
    "- **Shape effects**: Flatter (more disk-like) grains produce SEDs with both higher peak frequencies and greater spectral widths compared to their spherical counterparts\n",
    "- **Distribution sensitivity**: While grain size and shape influence the log-normal SED width, this parameter shows greater sensitivity to the choice of grain size distribution than to individual grain properties\n",
    "\n",
    "These results demonstrate the complex interplay between grain physical properties and the resulting AME emission characteristics, highlighting the importance of considering both individual grain physics and ensemble effects in AME modeling."
   ]
  },
  {
   "cell_type": "markdown",
   "id": "56531444",
   "metadata": {},
   "source": []
  }
 ],
 "metadata": {
  "kernelspec": {
   "display_name": "SpyDust",
   "language": "python",
   "name": "python3"
  },
  "language_info": {
   "codemirror_mode": {
    "name": "ipython",
    "version": 3
   },
   "file_extension": ".py",
   "mimetype": "text/x-python",
   "name": "python",
   "nbconvert_exporter": "python",
   "pygments_lexer": "ipython3",
   "version": "3.13.3"
  }
 },
 "nbformat": 4,
 "nbformat_minor": 5
}
