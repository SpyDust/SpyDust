{
 "cells": [
  {
   "cell_type": "code",
   "execution_count": null,
   "metadata": {},
   "outputs": [],
   "source": [
    "from infrared import *"
   ]
  },
  {
   "cell_type": "code",
   "execution_count": 13,
   "metadata": {},
   "outputs": [],
   "source": [
    "import yaml"
   ]
  },
  {
   "cell_type": "code",
   "execution_count": 1,
   "metadata": {},
   "outputs": [],
   "source": [
    "from plasmadrag import *"
   ]
  },
  {
   "cell_type": "code",
   "execution_count": 12,
   "metadata": {},
   "outputs": [],
   "source": [
    "result1 = compute_small_e()"
   ]
  },
  {
   "cell_type": "code",
   "execution_count": 16,
   "metadata": {},
   "outputs": [
    {
     "data": {
      "text/plain": [
       "29.11834361406208"
      ]
     },
     "execution_count": 16,
     "metadata": {},
     "output_type": "execute_result"
    }
   ],
   "source": [
    "result1[2]"
   ]
  },
  {
   "cell_type": "code",
   "execution_count": 2,
   "metadata": {},
   "outputs": [
    {
     "name": "stdout",
     "output_type": "stream",
     "text": [
      "I(rot, e, Zg <> 0) stored\n"
     ]
    }
   ],
   "source": [
    "aux1 = compute_int_plasma()"
   ]
  },
  {
   "cell_type": "code",
   "execution_count": 8,
   "metadata": {},
   "outputs": [
    {
     "data": {
      "text/plain": [
       "inf"
      ]
     },
     "execution_count": 8,
     "metadata": {},
     "output_type": "execute_result"
    }
   ],
   "source": [
    "from scipy.special import kv as beselk\n",
    "beselk(3,0)"
   ]
  },
  {
   "cell_type": "code",
   "execution_count": 9,
   "metadata": {},
   "outputs": [
    {
     "data": {
      "text/plain": [
       "0.034739504386279256"
      ]
     },
     "execution_count": 9,
     "metadata": {},
     "output_type": "execute_result"
    }
   ],
   "source": [
    "beselk(0,3)"
   ]
  },
  {
   "cell_type": "code",
   "execution_count": 6,
   "metadata": {},
   "outputs": [],
   "source": [
    "aux2 = compute_int_plasma_2()"
   ]
  },
  {
   "cell_type": "code",
   "execution_count": null,
   "metadata": {},
   "outputs": [],
   "source": [
    "np.all(aux1[1] == aux2[1])"
   ]
  },
  {
   "cell_type": "code",
   "execution_count": 12,
   "metadata": {},
   "outputs": [
    {
     "data": {
      "text/plain": [
       "1"
      ]
     },
     "execution_count": 12,
     "metadata": {},
     "output_type": "execute_result"
    }
   ],
   "source": [
    "int(3/2)"
   ]
  },
  {
   "cell_type": "code",
   "execution_count": 7,
   "metadata": {},
   "outputs": [
    {
     "data": {
      "text/plain": [
       "array([2.8496701e-10, 2.8496701e-10, 2.8496701e-10, 2.8496701e-10,\n",
       "       2.8496701e-10, 2.8496701e-10, 2.8496701e-10, 2.8496701e-10,\n",
       "       2.8496701e-10, 2.8496701e-10, 2.8496701e-10, 2.8496701e-10,\n",
       "       2.8496701e-10, 2.8496701e-10, 2.8496701e-10, 2.8496701e-10,\n",
       "       2.8496701e-10, 2.8496701e-10, 2.8496701e-10, 2.8496701e-10,\n",
       "       2.8496701e-10, 2.8496701e-10, 2.8496701e-10, 2.8496701e-10,\n",
       "       2.8496701e-10, 2.8496701e-10, 2.8496701e-10, 2.8496701e-10,\n",
       "       2.8496701e-10, 2.8496701e-10, 2.8496701e-10, 2.8496701e-10,\n",
       "       2.8496701e-10, 2.8496701e-10, 2.8496701e-10, 2.8496701e-10,\n",
       "       2.8496701e-10, 2.8496701e-10, 2.8496701e-10, 2.8496701e-10])"
      ]
     },
     "execution_count": 7,
     "metadata": {},
     "output_type": "execute_result"
    }
   ],
   "source": [
    "aux2[0][:40,20]"
   ]
  },
  {
   "cell_type": "code",
   "execution_count": 3,
   "metadata": {},
   "outputs": [
    {
     "data": {
      "text/plain": [
       "array([[6.72192900e-22, 2.40750733e-20, 4.65561056e-19, ...,\n",
       "        9.10562252e+02, 9.10593021e+02, 9.10612881e+02],\n",
       "       [6.72192900e-22, 2.40750733e-20, 4.65561056e-19, ...,\n",
       "        9.10562252e+02, 9.10593021e+02, 9.10612881e+02],\n",
       "       [6.72192900e-22, 2.40750733e-20, 4.65561056e-19, ...,\n",
       "        9.10562252e+02, 9.10593021e+02, 9.10612881e+02],\n",
       "       ...,\n",
       "       [6.72192900e-22, 2.40750733e-20, 4.65561056e-19, ...,\n",
       "        9.10562252e+02, 9.10593021e+02, 9.10612881e+02],\n",
       "       [6.72192900e-22, 2.40750733e-20, 4.65561056e-19, ...,\n",
       "        9.10562252e+02, 9.10593021e+02, 9.10612881e+02],\n",
       "       [6.72192900e-22, 2.40750733e-20, 4.65561056e-19, ...,\n",
       "        9.10562252e+02, 9.10593021e+02, 9.10612881e+02]])"
      ]
     },
     "execution_count": 3,
     "metadata": {},
     "output_type": "execute_result"
    }
   ],
   "source": [
    "aux2[0]"
   ]
  },
  {
   "cell_type": "code",
   "execution_count": 8,
   "metadata": {},
   "outputs": [],
   "source": [
    "from numba import jit, njit\n",
    "\n",
    "@njit\n",
    "def conca(a1, a2):\n",
    "    return np.concatenate((a1, a2))\n",
    "\n",
    "@njit\n",
    "def conca_2(a1, a2):\n",
    "    return np.concatenate([a1, a2])"
   ]
  },
  {
   "cell_type": "code",
   "execution_count": null,
   "metadata": {},
   "outputs": [],
   "source": [
    "conca(np.arange(3), np.arange(3))"
   ]
  },
  {
   "cell_type": "code",
   "execution_count": null,
   "metadata": {},
   "outputs": [],
   "source": [
    "np.arctan(2/3)"
   ]
  },
  {
   "cell_type": "code",
   "execution_count": 2,
   "metadata": {},
   "outputs": [],
   "source": [
    "from charge_dist import *"
   ]
  },
  {
   "cell_type": "code",
   "execution_count": null,
   "metadata": {},
   "outputs": [],
   "source": [
    "a=4e-7\n",
    "op, ip, ch = Energy_modes(a)\n",
    "Z=0\n",
    "env = {'nh' : 30, 'T': 100, 'Chi': 1, 'xh': 1e-3, 'xC': 3e-4, 'y' : 1e-1, \n",
    "               'gamma': 0, 'dipole': 9.3, 'line':7}\n",
    "#result = Btilde_ISRF_func(a, Z, op, ip, ch, 20, 1e-12)\n",
    "#result.shape\n",
    "fZ = charge_dist(env, a)\n",
    "FGIR_averaged(env, a, fZ)"
   ]
  },
  {
   "cell_type": "code",
   "execution_count": 19,
   "metadata": {},
   "outputs": [],
   "source": [
    "a_min = 3.5e-8  # cm\n",
    "a_max = 1e-6    # cm\n",
    "Na = 30\n",
    "a_tab = makelogtab(a_min, a_max, Na)"
   ]
  },
  {
   "cell_type": "code",
   "execution_count": null,
   "metadata": {},
   "outputs": [],
   "source": [
    "import numpy as np\n",
    "\n",
    "np.arange(6).reshape(2,3)*np.arange(3) "
   ]
  },
  {
   "cell_type": "code",
   "execution_count": null,
   "metadata": {},
   "outputs": [],
   "source": [
    "np.arange(6).reshape(2,3)@np.arange(3)"
   ]
  },
  {
   "cell_type": "code",
   "execution_count": null,
   "metadata": {},
   "outputs": [],
   "source": [
    "FGIR(env, a, 0)"
   ]
  },
  {
   "cell_type": "code",
   "execution_count": null,
   "metadata": {},
   "outputs": [],
   "source": [
    "FGIR_averaged(env, a, fZ)"
   ]
  },
  {
   "cell_type": "code",
   "execution_count": 11,
   "metadata": {},
   "outputs": [
    {
     "data": {
      "text/plain": [
       "1j"
      ]
     },
     "execution_count": 11,
     "metadata": {},
     "output_type": "execute_result"
    }
   ],
   "source": [
    "complex(0, 1)"
   ]
  },
  {
   "cell_type": "code",
   "execution_count": 4,
   "metadata": {},
   "outputs": [],
   "source": [
    "from charge_dist import charge_dist\n",
    "fZ = charge_dist(env, a)"
   ]
  },
  {
   "cell_type": "code",
   "execution_count": null,
   "metadata": {},
   "outputs": [],
   "source": [
    "FGi_averaged(env, a, 50, np.array([1e-13, 0.2]), fZ)"
   ]
  },
  {
   "cell_type": "code",
   "execution_count": null,
   "metadata": {},
   "outputs": [],
   "source": [
    "np.flip(np.arange(10), axis=0)"
   ]
  },
  {
   "cell_type": "code",
   "execution_count": null,
   "metadata": {},
   "outputs": [],
   "source": [
    "aux = Btilde_ISRF_func(a, 1, ip, op, ch, 270, 1e-11)"
   ]
  },
  {
   "cell_type": "code",
   "execution_count": null,
   "metadata": {},
   "outputs": [],
   "source": [
    "result = distribution(a, 1, 1, ip, op, ch, 270, 1e-11)"
   ]
  },
  {
   "cell_type": "code",
   "execution_count": null,
   "metadata": {},
   "outputs": [],
   "source": [
    "np.arange(3)[:, None] * np.ones((1, 3))"
   ]
  },
  {
   "cell_type": "code",
   "execution_count": null,
   "metadata": {},
   "outputs": [],
   "source": [
    "import matplotlib.pyplot as plt\n",
    "plt.plot(result['P_tab'])"
   ]
  },
  {
   "cell_type": "code",
   "execution_count": 4,
   "metadata": {},
   "outputs": [],
   "source": [
    "aux = np.arange(25).reshape(5,5)\n",
    "mask = aux<7\n",
    "ets_aux = np.zeros_like(aux)\n",
    "ets_aux[mask] = aux[mask]"
   ]
  },
  {
   "cell_type": "code",
   "execution_count": null,
   "metadata": {},
   "outputs": [],
   "source": [
    "ets_aux[mask]"
   ]
  },
  {
   "cell_type": "code",
   "execution_count": null,
   "metadata": {},
   "outputs": [],
   "source": [
    "aux = np.arange(10).reshape(2,5)\n",
    "aux[aux>2]"
   ]
  },
  {
   "cell_type": "code",
   "execution_count": null,
   "metadata": {},
   "outputs": [],
   "source": [
    "from util import *\n",
    "from charge_dist import *\n",
    "\n",
    "from util import *"
   ]
  },
  {
   "cell_type": "code",
   "execution_count": null,
   "metadata": {},
   "outputs": [],
   "source": [
    "E_min(-1, a)"
   ]
  },
  {
   "cell_type": "code",
   "execution_count": null,
   "metadata": {},
   "outputs": [],
   "source": [
    "import numpy as np\n",
    "len(np.array(3))"
   ]
  },
  {
   "cell_type": "code",
   "execution_count": 7,
   "metadata": {},
   "outputs": [],
   "source": [
    "Tmin = 1.0\n",
    "Tmax = 1.0e4\n",
    "NT = 100\n",
    "T_tab = makelogtab(Tmin, Tmax, NT)"
   ]
  },
  {
   "cell_type": "code",
   "execution_count": 9,
   "metadata": {},
   "outputs": [],
   "source": [
    "E_tab = EPAH(a, T_tab, test)"
   ]
  },
  {
   "cell_type": "code",
   "execution_count": null,
   "metadata": {},
   "outputs": [],
   "source": [
    "from numba import jit\n",
    "\n",
    "@jit(nopython=False)\n",
    "def bilinear_interpolate_jit(f, X, Y, Xnew, Ynew):\n",
    "    # Convert to logarithmic space\n",
    "    log_X = np.log(X)\n",
    "    log_Y = np.log(Y)\n",
    "    log_Xnew = np.log(Xnew)\n",
    "    log_Ynew = np.log(Ynew)\n",
    "\n",
    "    # Interpolation along the X axis first (for each Y value)\n",
    "    f_interpolated_X = np.zeros((len(log_Y), len(log_Xnew)))\n",
    "    for i in range(len(log_Y)):\n",
    "        for j in range(len(log_Xnew)):\n",
    "            f_interpolated_X[i, j] = np.interp(log_Xnew[j], log_X, f[i, :])\n",
    "\n",
    "    # Now interpolate along the Y axis element-wise\n",
    "    f_interpolated = np.zeros(len(log_Xnew))\n",
    "    for j in range(len(log_Xnew)):\n",
    "        f_interpolated[j] = np.interp(log_Ynew[j], log_Y, f_interpolated_X[:, j])\n",
    "\n",
    "    return f_interpolated\n",
    "\n",
    "def biinterplog(f, X, Y, Xnew, Ynew):\n",
    "    \"\"\"\n",
    "    Interpolates f given at X, Y (logarithmically spaced) at Xnew, Ynew.\n",
    "\n",
    "    Parameters:\n",
    "    - f: 2D array of values at Nx * Ny grid.\n",
    "    - X, Y: Arrays of logarithmically spaced values.\n",
    "    - Xnew, Ynew: New values at which to interpolate f.\n",
    "\n",
    "    Returns:\n",
    "    - Interpolated value of f at Xnew, Ynew.\n",
    "    \"\"\"\n",
    "\n",
    "    # Generate the grids\n",
    "    grid_log_y, grid_log_x = np.meshgrid(np.log(np.array(Y)), np.log(np.array(X)))\n",
    "\n",
    "    # Flatten the grids\n",
    "    flat_x = grid_log_x.flatten()\n",
    "    flat_y = grid_log_y.flatten()\n",
    "\n",
    "    # Stack them and transpose to get the shape (num, 2)\n",
    "    points = np.vstack((flat_x, flat_y)).T\n",
    "\n",
    "    grid_log_y_new, grix_log_x_new = np.meshgrid(np.log(np.array(Ynew)), np.log(np.array(Xnew)))\n",
    "\n",
    "    # Interpolation requires coordinates as pairs\n",
    "    return griddata(points, f.flatten(), (grix_log_x_new, grid_log_y_new), method='linear')"
   ]
  }
 ],
 "metadata": {
  "kernelspec": {
   "display_name": "hydra",
   "language": "python",
   "name": "python3"
  },
  "language_info": {
   "codemirror_mode": {
    "name": "ipython",
    "version": 3
   },
   "file_extension": ".py",
   "mimetype": "text/x-python",
   "name": "python",
   "nbconvert_exporter": "python",
   "pygments_lexer": "ipython3",
   "version": "3.11.5"
  }
 },
 "nbformat": 4,
 "nbformat_minor": 2
}
