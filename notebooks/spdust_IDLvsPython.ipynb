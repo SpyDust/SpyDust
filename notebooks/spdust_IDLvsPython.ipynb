{
 "cells": [
  {
   "cell_type": "code",
   "execution_count": 1,
   "metadata": {},
   "outputs": [
    {
     "name": "stdout",
     "output_type": "stream",
     "text": [
      "l_a computed\n",
      "readPAH computed\n",
      "Loaded previously computed Jpeisrf arrays from file.\n",
      "Maximum energy in the Qabs_hnu_tab is 1239.84 eV.\n",
      "FIR_integral_charged shape: (30, 30)\n",
      "Na: 30, Nchi: 30\n",
      "Tev table already exists at /Users/user/PythonProjects/SpyDust/SpyDust/Data_Files/Tev_30a_30chi.txt.\n",
      "I(Zg<0, parabolic) stored\n",
      "I(rot, e, Zg <> 0) stored\n",
      "Gaunt factor stored\n"
     ]
    }
   ],
   "source": [
    "import sys\n",
    "import os\n",
    "import numpy as np\n",
    "# Add the root directory of the package to sys.path\n",
    "sys.path.append('/Users/user/PythonProjects/SpyDust/')\n",
    "\n",
    "from SpyDust.SPDUST_as_is.charge_dist import *\n",
    "from SpyDust.SPDUST_as_is.emissivity import *\n",
    "import matplotlib.pyplot as plt\n"
   ]
  },
  {
   "cell_type": "markdown",
   "metadata": {},
   "source": [
    "## Consistency of the subroutines"
   ]
  },
  {
   "cell_type": "code",
   "execution_count": null,
   "metadata": {},
   "outputs": [
    {
     "ename": "",
     "evalue": "",
     "output_type": "error",
     "traceback": [
      "\u001b[1;31mnotebook controller is DISPOSED. \n",
      "\u001b[1;31mView Jupyter <a href='command:jupyter.viewOutput'>log</a> for further details."
     ]
    }
   ],
   "source": [
    "from SpyDust.utils.util import *\n",
    "from SpyDust.SPDUST_as_is.grain_properties import *\n",
    "from SpyDust.SPDUST_as_is.emissivity import *"
   ]
  },
  {
   "cell_type": "code",
   "execution_count": null,
   "metadata": {},
   "outputs": [
    {
     "ename": "",
     "evalue": "",
     "output_type": "error",
     "traceback": [
      "\u001b[1;31mnotebook controller is DISPOSED. \n",
      "\u001b[1;31mView Jupyter <a href='command:jupyter.viewOutput'>log</a> for further details."
     ]
    }
   ],
   "source": [
    "# See DL98b table I for the parameters\n",
    "\n",
    "# nh: number density of hydrogen atoms in cm^-3\n",
    "# T: temperature in K\n",
    "# Chi: intensity of the radiation field relative to the average interstelar radiation field\n",
    "# xh: hydrogen ionization fraction\n",
    "# xC: ionized carbon fractional abundance\n",
    "# y: molecular hydrogen fractional abundance\n",
    "# gamma: H2 formation efficiency\n",
    "# dipole: rms dipole moment for dust grains in Debye \n",
    "# line: parameters for the grain size distribution : provide the corresponding line of table 1 of Weingartner\n",
    "# & Draine (2001b) (starting at one) under the tag line\n",
    "\n",
    "DC_params = {'nh' : 1e4, 'T': 10., 'Chi': 1e-4, 'xh': 0., 'xC': 1e-6, 'y' : 0.999,  'gamma': 0, 'dipole': 9.3, 'line':7}\n",
    "\n",
    "MC_params = {'nh' : 3e2, 'T': 20., 'Chi': 1e-2, 'xh': 0., 'xC': 1e-4, 'y' : 0.99,  'gamma': 0, 'dipole': 9.3, 'line':7}    \n",
    "\n",
    "CNM_params = {'nh' : 30, 'T': 100., 'Chi': 1, 'xh': 1.2e-3, 'xC': 3e-4, 'y' : 0, 'gamma': 0, 'dipole': 9.3, 'line':7}\n",
    "\n",
    "WNM_params = {'nh' : 0.4, 'T': 6000., 'Chi': 1., 'xh': 0.1, 'xC': 3e-4, 'y' : 0, 'gamma': 0, 'dipole': 9.3, 'line':7}\n",
    "\n",
    "WIM_params = {'nh' : 0.1, 'T': 8000., 'Chi': 1., 'xh': 0.99, 'xC': 1e-3, 'y' : 0, 'gamma': 0, 'dipole': 9.3, 'line':7}\n",
    "\n",
    "RN_params = {'nh' : 1000., 'T': 100., 'Chi': 1000., 'xh': 0.001, 'xC': 2e-4, 'y' : 0.5, 'gamma': 0, 'dipole': 9.3, 'line':7}\n",
    "\n",
    "PDR_params = {'nh' : 1e5, 'T': 300., 'Chi': 3000., 'xh': 0.0001, 'xC': 2e-4, 'y' : 0.5, 'gamma': 0, 'dipole': 9.3, 'line':7}"
   ]
  },
  {
   "cell_type": "markdown",
   "metadata": {},
   "source": [
    "### Inputs for the IDL SPDUST\n",
    "\n",
    "DC_params = {nh : 1d4, T: 10d, chi: 1d-4, xh: 0d, xc: 1d-6, y : 0.999d, gamma: 0d, dipole: 9.3d, line:7}\n",
    "\n",
    "MC_params = {nh : 3d2, T: 20d, chi: 1d-2, xh: 0d, xc: 1d-4, y : 0.99d, gamma: 0d, dipole: 9.3d, line:7}\n",
    "\n",
    "CNM_params = {nh : 30d, T: 1d2, chi: 1d, xh: 1.2d-3, xc: 3d-4, y : 0d, gamma: 0d, dipole: 9.3d, line:7}\n",
    "\n",
    "WNM_params = {nh : 0.4d, T: 6d3, chi: 1d, xh: 0.1d, xc: 3d-4, y : 0d, gamma: 0d, dipole: 9.3d, line:7}\n",
    "\n",
    "WIM_params = {nh : 0.1d, T: 8d3, chi: 1d, xh: 0.99d, xc: 1d-3, y : 0d, gamma: 0d, dipole: 9.3d, line:7}\n",
    "\n",
    "RN_params = {nh : 1d3, T: 1d2, chi: 1d3, xh: 1d-3, xc: 2d-4, y : 0.5d, gamma: 0d, dipole: 9.3d, line:7}\n",
    "\n",
    "PDR_params = {nh : 1d5, T: 3d2, chi: 3d3, xh: 1d-4, xc: 2d-4, y : 0.5d, gamma: 0d, dipole: 9.3d, line:7}\n",
    "\n",
    "SPDUST, DC_params, '/Users/user/DC_emiss.out', /case1, min_freq = 1d, max_freq = 300d, N_freq = 500"
   ]
  },
  {
   "cell_type": "code",
   "execution_count": null,
   "metadata": {},
   "outputs": [
    {
     "ename": "",
     "evalue": "",
     "output_type": "error",
     "traceback": [
      "\u001b[1;31mnotebook controller is DISPOSED. \n",
      "\u001b[1;31mView Jupyter <a href='command:jupyter.viewOutput'>log</a> for further details."
     ]
    }
   ],
   "source": [
    "from SpyDust.SPDUST_as_is.spdust import SPDUST"
   ]
  },
  {
   "cell_type": "code",
   "execution_count": null,
   "metadata": {},
   "outputs": [
    {
     "ename": "",
     "evalue": "",
     "output_type": "error",
     "traceback": [
      "\u001b[1;31mnotebook controller is DISPOSED. \n",
      "\u001b[1;31mView Jupyter <a href='command:jupyter.viewOutput'>log</a> for further details."
     ]
    }
   ],
   "source": [
    "result_DC = SPDUST(DC_params, min_freq = 1, max_freq=300, n_freq=500, tumbling=False)\n",
    "result_MC = SPDUST(MC_params, min_freq = 1, max_freq=300, n_freq=500, tumbling=False)\n",
    "result_CNM = SPDUST(CNM_params, min_freq = 1, max_freq=300, n_freq=500)\n",
    "result_WNM = SPDUST(WNM_params, min_freq = 1, max_freq=300, n_freq=500)\n",
    "result_WIM = SPDUST(WIM_params, min_freq = 1, max_freq=300, n_freq=500)\n",
    "result_RN = SPDUST(RN_params, min_freq = 1, max_freq=300, n_freq=500)\n",
    "result_PDR = SPDUST(PDR_params, min_freq = 1, max_freq=300, n_freq=500)"
   ]
  },
  {
   "cell_type": "code",
   "execution_count": null,
   "metadata": {},
   "outputs": [
    {
     "ename": "",
     "evalue": "",
     "output_type": "error",
     "traceback": [
      "\u001b[1;31mnotebook controller is DISPOSED. \n",
      "\u001b[1;31mView Jupyter <a href='command:jupyter.viewOutput'>log</a> for further details."
     ]
    }
   ],
   "source": [
    "# Import the IDL results for comparison \n",
    "# From IDL outputs\n",
    "idl_result_DC = np.loadtxt('IDL_outputs/DC_emiss.out', comments=';')\n",
    "idl_result_MC = np.loadtxt('IDL_outputs/MC_emiss.out', comments=';')\n",
    "idl_result_CNM = np.loadtxt('IDL_outputs/CNM_emiss.out', comments=';')\n",
    "idl_result_WNM = np.loadtxt('IDL_outputs/WNM_emiss.out', comments=';')\n",
    "idl_result_WIM = np.loadtxt('IDL_outputs/WIM_emiss.out', comments=';')\n",
    "idl_result_RN = np.loadtxt('IDL_outputs/RN_emiss.out', comments=';')\n",
    "idl_result_PDR = np.loadtxt('IDL_outputs/PDR_emiss.out', comments=';')"
   ]
  },
  {
   "cell_type": "code",
   "execution_count": null,
   "metadata": {},
   "outputs": [
    {
     "ename": "",
     "evalue": "",
     "output_type": "error",
     "traceback": [
      "\u001b[1;31mnotebook controller is DISPOSED. \n",
      "\u001b[1;31mView Jupyter <a href='command:jupyter.viewOutput'>log</a> for further details."
     ]
    }
   ],
   "source": [
    "python_results = [ result_DC, result_MC,\n",
    "                    result_CNM, result_WNM, result_WIM, result_RN, result_PDR]\n",
    "idl_results = [ idl_result_DC, idl_result_MC,\n",
    "                idl_result_CNM, idl_result_WNM, idl_result_WIM, idl_result_RN, idl_result_PDR]\n",
    "ISM_list = [ 'DC', 'MC', 'CNM', 'WNM', 'WIM', 'RN', 'PDR']"
   ]
  },
  {
   "cell_type": "code",
   "execution_count": null,
   "metadata": {},
   "outputs": [
    {
     "ename": "",
     "evalue": "",
     "output_type": "error",
     "traceback": [
      "\u001b[1;31mnotebook controller is DISPOSED. \n",
      "\u001b[1;31mView Jupyter <a href='command:jupyter.viewOutput'>log</a> for further details."
     ]
    }
   ],
   "source": [
    "spy_color1, spy_color2, spdust_color1, spdust_color2=['#9ED17B', '#367DB0', '#A8ACCB', '#AC8AB3']"
   ]
  },
  {
   "cell_type": "code",
   "execution_count": null,
   "metadata": {},
   "outputs": [
    {
     "ename": "",
     "evalue": "",
     "output_type": "error",
     "traceback": [
      "\u001b[1;31mnotebook controller is DISPOSED. \n",
      "\u001b[1;31mView Jupyter <a href='command:jupyter.viewOutput'>log</a> for further details."
     ]
    }
   ],
   "source": [
    "def plot_emissivity(env_ind, ax, plot_xlabel=False, plot_ylabel=False, labels=True):\n",
    "    title=ISM_list[env_ind]\n",
    "    if labels:\n",
    "        ax.loglog(idl_results[env_ind][:,0], idl_results[env_ind][:,1], label='spdust', lw=3, linestyle='-', color=spy_color2)\n",
    "        ax.loglog(python_results[env_ind][0,:], python_results[env_ind][1,:], label='SpyDust (\\\"spdust as-is\\\" mode)', lw=3, linestyle='--', color=spy_color1)\n",
    "        ax.loglog(python_results[env_ind][0,:], np.abs(python_results[env_ind][1,:]-idl_results[env_ind][:,1]), lw=2, label='absolute difference', linestyle=':', color='gray')\n",
    "    else:\n",
    "        ax.loglog(idl_results[env_ind][:,0], idl_results[env_ind][:,1], lw=3, linestyle='-', color=spy_color2)\n",
    "        ax.loglog(python_results[env_ind][0,:], python_results[env_ind][1,:], lw=3, linestyle='--', color=spy_color1)\n",
    "        ax.loglog(python_results[env_ind][0,:], np.abs(python_results[env_ind][1,:]-idl_results[env_ind][:,1]), lw=2,  linestyle=':', color='gray')\n",
    "    ax.set_title(title, fontsize=15)\n",
    "    #ax.legend(fontsize=12, frameon=False, ncol=1)\n",
    "    ax.set_xlim(1, 300)\n",
    "    ax.set_ylim(5e-26, 5e-15)\n",
    "    # Set stick label size\n",
    "    if plot_xlabel:\n",
    "        ax.set_xlabel(r'$\\nu$ [GHz]', fontsize=15)\n",
    "    else:\n",
    "        ax.set_xticklabels([])\n",
    "    if plot_ylabel:\n",
    "        ax.set_ylabel(r'$j_{\\nu}/n_H$', fontsize=15)\n",
    "    else:\n",
    "        ax.set_yticklabels([])\n",
    "    ax.tick_params(axis='both', which='major', labelsize=15)"
   ]
  },
  {
   "cell_type": "code",
   "execution_count": null,
   "metadata": {},
   "outputs": [
    {
     "ename": "",
     "evalue": "",
     "output_type": "error",
     "traceback": [
      "\u001b[1;31mnotebook controller is DISPOSED. \n",
      "\u001b[1;31mView Jupyter <a href='command:jupyter.viewOutput'>log</a> for further details."
     ]
    }
   ],
   "source": [
    "# Create a figure with a 3x3 grid\n",
    "fig = plt.figure(figsize=(16, 13))\n",
    "gs = fig.add_gridspec(3, 3)\n",
    "axs = [fig.add_subplot(gs[0, 0]), fig.add_subplot(gs[0, 1]), fig.add_subplot(gs[0, 2]),\n",
    "       fig.add_subplot(gs[1, 0]), fig.add_subplot(gs[1, 1]), fig.add_subplot(gs[1, 2]),\n",
    "       fig.add_subplot(gs[2, 0]), fig.add_subplot(gs[2, 1:])]\n",
    "\n",
    "plot_emissivity(0, axs[0], plot_ylabel=True)\n",
    "plot_emissivity(1, axs[1])\n",
    "plot_emissivity(2, axs[2])\n",
    "plot_emissivity(3, axs[3], plot_ylabel=True)\n",
    "plot_emissivity(4, axs[4], plot_xlabel=True)\n",
    "plot_emissivity(5, axs[5], plot_xlabel=True)\n",
    "plot_emissivity(6, axs[6], plot_xlabel=True, plot_ylabel=True)\n",
    "\n",
    "line_styles = [\n",
    "    ('-', 1),    # Solid line, thin\n",
    "    ('-', 2),    # Solid line, thick\n",
    "    ('--', 1),   # Dashed line, thin\n",
    "    ('--', 2),   # Dashed line, thick\n",
    "    ('-.', 1),   # Dash-dot line, thin\n",
    "    ('-.', 2),   # Dash-dot line, thick\n",
    "    (':', 1.5)   # Dotted line, medium thickness\n",
    "]\n",
    "\n",
    "for i in range(7):\n",
    "    style, width = line_styles[i]\n",
    "    ys = np.abs(python_results[i][1,:]-idl_results[i][:,1]) / idl_results[i][:,1]\n",
    "    axs[7].loglog(python_results[i][0], ys, label=ISM_list[i], linestyle=style, linewidth=width)\n",
    "\n",
    "# Get handles and labels from the specific subplot (ax1)\n",
    "handles, labels = axs[1].get_legend_handles_labels()\n",
    "\n",
    "# Create a figure-level legend using only the handles and labels from ax1\n",
    "fig.legend(handles, labels,\n",
    "           loc='upper center', \n",
    "           ncol=3,\n",
    "           columnspacing=1.5,\n",
    "           bbox_to_anchor=(0.5, 1.05),\n",
    "           frameon=False,\n",
    "           fontsize=15\n",
    "           )\n",
    "\n",
    "axs[7].set_xlabel(r'$\\nu$ (GHz)', fontsize=15)\n",
    "axs[7].set_title('Fractional Difference', fontsize=15)\n",
    "axs[7].set_xlim(1, 300)\n",
    "axs[7].tick_params(axis='both', which='major', labelsize=15)\n",
    "axs[7].legend(fontsize=15, frameon=False, columnspacing=1, loc='upper left', ncol=3)\n",
    "plt.tight_layout()\n",
    "plt.savefig('figures/spdust_comparison.pdf' , bbox_inches='tight')"
   ]
  },
  {
   "cell_type": "code",
   "execution_count": null,
   "metadata": {},
   "outputs": [
    {
     "ename": "",
     "evalue": "",
     "output_type": "error",
     "traceback": [
      "\u001b[1;31mnotebook controller is DISPOSED. \n",
      "\u001b[1;31mView Jupyter <a href='command:jupyter.viewOutput'>log</a> for further details."
     ]
    }
   ],
   "source": []
  }
 ],
 "metadata": {
  "kernelspec": {
   "display_name": "TOD",
   "language": "python",
   "name": "python3"
  },
  "language_info": {
   "codemirror_mode": {
    "name": "ipython",
    "version": 3
   },
   "file_extension": ".py",
   "mimetype": "text/x-python",
   "name": "python",
   "nbconvert_exporter": "python",
   "pygments_lexer": "ipython3",
   "version": "3.11.5"
  }
 },
 "nbformat": 4,
 "nbformat_minor": 2
}
