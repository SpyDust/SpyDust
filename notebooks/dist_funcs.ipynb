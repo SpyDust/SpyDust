{
 "cells": [
  {
   "cell_type": "code",
   "execution_count": 1,
   "metadata": {},
   "outputs": [],
   "source": [
    "import sys\n",
    "import os\n",
    "import numpy as np\n",
    "import matplotlib.pyplot as plt\n",
    "from matplotlib.gridspec import GridSpec\n",
    "\n",
    "# Add the root directory of the package to sys.path\n",
    "sys.path.append('/Users/user/PythonProjects/SpyDust/')\n",
    "\n",
    "from main.Grain import *"
   ]
  },
  {
   "cell_type": "markdown",
   "metadata": {},
   "source": [
    "## Grain size and shape distribution"
   ]
  },
  {
   "cell_type": "code",
   "execution_count": 2,
   "metadata": {},
   "outputs": [],
   "source": [
    "grain_obj = grain_distribution()\n",
    "f_a_beta = grain_obj.shape_and_size_dist(6, a_weighted=True, normalize=True)\n",
    "a_tab = grain_obj.a_tab\n",
    "beta_tab = grain_obj.beta_tab\n"
   ]
  },
  {
   "cell_type": "code",
   "execution_count": null,
   "metadata": {},
   "outputs": [],
   "source": [
    "def visualize_extended_data(data, a_tab, beta_tab):\n",
    "\n",
    "    prob_values = data.flatten()\n",
    "    a_dist = np.sum(data, axis=1)\n",
    "    a_values, beta_values = np.meshgrid(a_tab, beta_tab, indexing='ij')\n",
    "    a_values = a_values.flatten()\n",
    "    beta_values = beta_values.flatten()\n",
    "    b_tab_aux = np.zeros_like(a_tab)\n",
    "    b_tab_aux[a_tab < 6e-8] = -0.5\n",
    "\n",
    "    ind = a_values < 6e-8\n",
    "    ind_aux = a_tab < 6e-8\n",
    "    \n",
    "    # Create a GridSpec layout\n",
    "    fig = plt.figure(figsize=(10, 10))\n",
    "    gs = fig.add_gridspec(3, 3, wspace=0.01, hspace=0.01)\n",
    "\n",
    "    # Main plot: joint distribution as a heatmap-like scatter plot\n",
    "    ax_main = fig.add_subplot(gs[1:3, 1:3])\n",
    "    \n",
    "    scatter = ax_main.scatter(a_values[ind], beta_values[ind], c='#9ED17B',  s=500 * np.sqrt(prob_values[ind]), alpha=0.75, label=r'SpyDust: Cylinder', marker='o')\n",
    "    scatter = ax_main.scatter(a_values[~ind], beta_values[~ind], c='#367DB0',  s=500 * np.sqrt(prob_values[~ind]), alpha=0.85, label=r'SpyDust: Ellipsoid', marker='o')\n",
    "    ax_main.set_xscale('log')  # Log scale for 'a' axis\n",
    "    ax_main.set_xlabel('Volume-equivalent radius (a)', fontsize=16)\n",
    "    ax_main.set_ylabel(r'$\\beta$', fontsize=16)\n",
    "    ax_main.set_ylim(-0.55, 0.18)  # Set the range of beta values\n",
    "    \n",
    "\n",
    "    # Move y-axis label for the main plot to the right\n",
    "    ax_main.yaxis.set_label_position(\"right\")\n",
    "    ax_main.yaxis.tick_right()\n",
    "\n",
    "    # Add the vertical line at a = 6e-8 in the main plot\n",
    "    a_line_threshold = 6e-8\n",
    "    ax_main.axvline(a_line_threshold, color='gray', linestyle='--', linewidth=2)\n",
    "\n",
    "    # Add the tick at a = 6e-8\n",
    "    xticks = list(ax_main.get_xticks())  # Get current x-ticks\n",
    "    xticks.append(a_line_threshold)  # Add the desired a = 6e-8 tick\n",
    "    ax_main.set_xticks(xticks)  # Set the new list of x-ticks\n",
    "    #ax_main.set_xticklabels([f'{tick:.1e}' for tick in xticks])  # Format x-ticks in scientific notation\n",
    "    \n",
    "\n",
    "    # Marginal distribution for 'a' (top plot) with equal width to the main plot\n",
    "    ax_top = fig.add_subplot(gs[0, 1:3], sharex=ax_main)\n",
    "    a_unique = np.unique(a_values)\n",
    "    prob_a = [np.sum(prob_values[a_values == a]) for a in a_unique]\n",
    "    ax_top.plot(a_unique, prob_a, color='gray', alpha=0.7)\n",
    "    ax_top.set_ylabel(r'$f(\\ln a)$', fontsize=16)\n",
    "    ax_top.set_yscale('log')  # Log scale for the marginal plot\n",
    "    ax_top.xaxis.set_tick_params(labelbottom=False)\n",
    "\n",
    "    # Add the vertical line at a = 6e-8 in the marginal plot for f(a)\n",
    "    a_line_threshold = 6e-8\n",
    "    ax_top.axvline(a_line_threshold, color='gray', linestyle='--', linewidth=2)\n",
    "\n",
    "    # Add text labels for spdust models on both sides of the vertical line\n",
    "    ax_top.text(4.4e-8, np.max(prob_a) * 0.005, \"Spdust:\\nDisk\",\n",
    "                fontsize=12, color='#A8ACCB', ha='center')\n",
    "    \n",
    "    ax_top.text(4.4e-8, np.max(prob_a) * 0.0005, \"SpyDust:\\nCylinder\",\n",
    "                fontsize=12, color='#9ED17B', ha='center')\n",
    "\n",
    "    ax_top.text(8e-8, np.max(prob_a) * 0.005, \"Spdust:\\nSpherical\",\n",
    "                fontsize=12, color='#AC8AB3', ha='center')\n",
    "    \n",
    "    ax_top.text(8e-8, np.max(prob_a) * 0.0005, \"SpyDust:\\nEllipsoid\",\n",
    "                fontsize=12, color='#367DB0', ha='center')\n",
    "\n",
    "    # Marginal distribution for 'beta' (left plot), flip orientation\n",
    "    ax_left = fig.add_subplot(gs[1:3, 0], sharey=ax_main)\n",
    "    ax_left.hist(beta_values[ind], bins=45, orientation='horizontal', color='#9ED17B', alpha=0.7, weights=prob_values[ind], label='SpyDust: Cylinder')\n",
    "    ax_left.hist(beta_values[~ind], bins=45, orientation='horizontal', color='#367DB0', alpha=0.85, weights=prob_values[~ind], label='SpyDust: Ellipsoid')\n",
    "    ax_left.hist(b_tab_aux[ind_aux], bins=50, orientation='horizontal', color='#A8ACCB', alpha=0.7, weights=a_dist[ind_aux], label='Spdust: Disk')\n",
    "    ax_left.hist(b_tab_aux[~ind_aux], bins=50, orientation='horizontal', color='#AC8AB3', alpha=0.85, weights=a_dist[~ind_aux], label='Spdust: Spherical')\n",
    "    ax_left.set_xlabel(r'$f(\\beta)$', fontsize=16)\n",
    "    ax_left.invert_xaxis()  # Flip the x-axis of the left panel\n",
    "    ax_left.set_xlim(0.15,0)  # Set the range of beta values\n",
    "    ax_left.yaxis.set_tick_params(labelleft=False)\n",
    "    ax_left.legend(loc='upper left')\n",
    "\n",
    "    # Add colorbar to the figure instead of the subplot to align the top and main panel widths\n",
    "    #cbar = fig.colorbar(scatter, ax=ax_main, fraction=0.05, pad=0.04)\n",
    "    # cbar.set_label('Probability')\n",
    "\n",
    "    # Plot the two-segment line\n",
    "    a_line_1 = np.linspace(a_tab.min(), 6e-8, 100)\n",
    "    a_line_2 = np.linspace(6e-8, a_tab.max(), 100)\n",
    "    #beta_line_1 = -0.5 * np.ones_like(a_line_1)  # beta = -1/2 for a < 6e-8\n",
    "    #beta_line_2 = np.zeros_like(a_line_2)        # beta = 0 for a >= 6e-8\n",
    "\n",
    "    \n",
    "    scatter = ax_main.scatter(a_tab[ind_aux], b_tab_aux[ind_aux], c='#A8ACCB',  s=500 * np.sqrt(a_dist[ind_aux]), alpha=0.8, label=r'Spdust: Disk', marker='s')\n",
    "    scatter = ax_main.scatter(a_tab[~ind_aux], b_tab_aux[~ind_aux], c='#AC8AB3',  s=500 * np.sqrt(a_dist[~ind_aux]), alpha=0.9, label=r'Spdust: Spherical', marker='s')\n",
    "\n",
    "    # First part of the line: beta = -1/2\n",
    "    #ax_main.plot(a_line_1, beta_line_1, color='#A8ACCB', linewidth=2, solid_capstyle='round', label = 'Spdust: Disk')\n",
    "\n",
    "    # Second part of the line: beta = 0\n",
    "    #ax_main.plot(a_line_2, beta_line_2, color='#AC8AB3', linewidth=2, linestyle='--', label = 'Spdust: Spherical')\n",
    "\n",
    "    ax_main.legend(loc='lower right')\n",
    "\n",
    "    #plt.suptitle('Joint Distribution with Marginals for a and beta (Log-scale for a)')\n",
    "    plt.show()\n",
    "\n",
    "visualize_extended_data(f_a_beta, a_tab, beta_tab)"
   ]
  },
  {
   "cell_type": "markdown",
   "metadata": {},
   "source": [
    "## $f(\\Omega|a, \\beta, \\mu)$"
   ]
  },
  {
   "cell_type": "code",
   "execution_count": 3,
   "metadata": {},
   "outputs": [
    {
     "name": "stdout",
     "output_type": "stream",
     "text": [
      "5.3382803478865665e-08 -0.45974358974358975\n"
     ]
    }
   ],
   "source": [
    "env = {'nh' : 30, 'T': 100, 'Chi': 1, 'xh': 1e-3, 'xC': 3e-4, 'y' : 0, 'gamma': 0, 'dipole': 9.3, 'line':7}\n",
    "\n",
    "\n",
    "\n",
    "from utils.util import cgsconst\n",
    "\n",
    "debye = cgsconst.debye\n",
    "\n",
    "dip_per_at = env['dipole'] / np.sqrt(N_C(1e-7) + N_H(1e-7)) * debye\n",
    "\n",
    "aind = 5\n",
    "a = a_tab[aind]\n",
    "beta = beta_tab[np.argmax(f_a_beta[aind, :])]\n",
    "print(a, beta)"
   ]
  },
  {
   "cell_type": "code",
   "execution_count": 4,
   "metadata": {},
   "outputs": [
    {
     "name": "stdout",
     "output_type": "stream",
     "text": [
      "l_a computed\n",
      "readPAH computed\n",
      "Loaded previously computed Jpeisrf arrays from file.\n",
      "Tev table already exists at /Users/user/PythonProjects/SpyDust/core/Data_Files/Tev_30a_30chi.txt.\n",
      "I(Zg<0, parabolic) stored\n",
      "I(rot, e, Zg <> 0) stored\n"
     ]
    }
   ],
   "source": [
    "from main.AngMomDist import f_rot, f_rot_old\n",
    "from core.charge_dist import charge_dist\n",
    "\n",
    "fZ = charge_dist(env, a, beta)\n",
    "Z2 = np.sum(fZ[0, :]**2 * fZ[1, :])\n",
    "mu_rms = rms_dipole(a, beta, Z2, dip_per_at)\n",
    "ip = 2/3\n",
    "mu_ip = np.array([mu_rms * np.sqrt(ip)])\n",
    "mu_op = np.array([mu_rms * np.sqrt(1 - ip)])"
   ]
  },
  {
   "cell_type": "code",
   "execution_count": 6,
   "metadata": {},
   "outputs": [
    {
     "name": "stdout",
     "output_type": "stream",
     "text": [
      "expo_min, expo_max [0.00497678] [11721.10216089]\n"
     ]
    },
    {
     "name": "stderr",
     "output_type": "stream",
     "text": [
      "/Users/user/PythonProjects/SpyDust/main/AngMomDist.py:152: RuntimeWarning: overflow encountered in exp\n",
      "  norm = 4 * pi * np.sum(omega_tab**3 * np.exp(-exponent), axis=0) * Dln_omega\n",
      "/Users/user/PythonProjects/SpyDust/main/AngMomDist.py:152: RuntimeWarning: overflow encountered in multiply\n",
      "  norm = 4 * pi * np.sum(omega_tab**3 * np.exp(-exponent), axis=0) * Dln_omega\n",
      "/Users/user/PythonProjects/SpyDust/main/AngMomDist.py:158: RuntimeWarning: overflow encountered in exp\n",
      "  f_a = 1 / norm * np.exp(-exponent)\n",
      "/Users/user/PythonProjects/SpyDust/main/AngMomDist.py:158: RuntimeWarning: invalid value encountered in multiply\n",
      "  f_a = 1 / norm * np.exp(-exponent)\n"
     ]
    },
    {
     "name": "stdout",
     "output_type": "stream",
     "text": [
      "expo_min, expo_max [0.00356333] [171.34023198]\n"
     ]
    },
    {
     "data": {
      "text/plain": [
       "[<matplotlib.lines.Line2D at 0x17fa7abd0>]"
      ]
     },
     "execution_count": 6,
     "metadata": {},
     "output_type": "execute_result"
    },
    {
     "data": {
      "image/png": "[encoded data removed]",
      "text/plain": [
       "<Figure size 640x480 with 1 Axes>"
      ]
     },
     "metadata": {},
     "output_type": "display_data"
    }
   ],
   "source": [
    "omega1, f_Omega_1 = f_rot(env, a, beta, fZ, mu_ip, mu_op,omega_min=1e8, omega_max=1e12, Nomega=1000) \n",
    "omega2, f_Omega_2 = f_rot_old(env, a, beta, fZ, mu_ip, mu_op)\n",
    "plt.loglog(omega2, f_Omega_2[0], label='Old')\n",
    "\n",
    "plt.loglog(omega1, f_Omega_1[0], label='New', linestyle='--')\n",
    "\n"
   ]
  },
  {
   "cell_type": "markdown",
   "metadata": {},
   "source": [
    "## $\\tilde{f}_\\perp(\\Omega | a, \\beta) \\equiv  \\int \\mu_\\perp^2 f(\\Omega, \\boldsymbol{\\mu} | a, \\beta ) \\mathrm{d}^3\\mu$"
   ]
  },
  {
   "cell_type": "code",
   "execution_count": null,
   "metadata": {},
   "outputs": [],
   "source": [
    "from main.SED import mu2_f_cond, mu2_f, SED\n",
    "aind = 2\n",
    "a = a_tab[aind]\n",
    "beta = beta_tab[np.argmin(f_a_beta[aind, :])]\n",
    "print(a, beta)\n",
    "omega, mu2_f_cond_arr = mu2_f_cond(env, a, beta, fZ, mu_rms, ip, 20, omega_min=1e8, omega_max=1e14, Nomega=1000)\n",
    "plt.loglog(omega, mu2_f_cond_arr[0], label='ip')\n",
    "plt.loglog(omega,  mu2_f_cond_arr[1], label='op', linestyle='--')"
   ]
  },
  {
   "cell_type": "markdown",
   "metadata": {},
   "source": [
    "## $\\tilde{f}_\\perp(\\Omega, \\beta) = \\int \\mathrm{d}a f(a, \\beta) \\tilde{f}_\\perp(\\Omega | a, \\beta) $"
   ]
  },
  {
   "cell_type": "code",
   "execution_count": 7,
   "metadata": {},
   "outputs": [],
   "source": [
    "mu2_f_arr = mu2_f(env, a_tab, beta_tab, f_a_beta, dip_per_at, ip, 20)"
   ]
  },
  {
   "cell_type": "code",
   "execution_count": null,
   "metadata": {},
   "outputs": [],
   "source": [
    "for i in range(len(beta_tab)):\n",
    "    plt.plot(omega, mu2_f_arr[i, 0, :], label=beta_tab[i])\n",
    "    plt.xscale('log')"
   ]
  },
  {
   "cell_type": "code",
   "execution_count": null,
   "metadata": {},
   "outputs": [],
   "source": [
    "i=-1\n",
    "plt.plot(omega, mu2_f_arr[i, 0, :], label=beta_tab[i])\n",
    "plt.xscale('log')"
   ]
  },
  {
   "cell_type": "code",
   "execution_count": null,
   "metadata": {},
   "outputs": [],
   "source": [
    "beta_ind = 0\n",
    "print(beta_tab[beta_ind])\n",
    "aux = mu2_f_arr[beta_ind, 0, :] \n",
    "len(aux[aux>0])"
   ]
  },
  {
   "cell_type": "code",
   "execution_count": null,
   "metadata": {},
   "outputs": [],
   "source": [
    "Inertia_largest(6e-8, -0.4)"
   ]
  },
  {
   "cell_type": "code",
   "execution_count": null,
   "metadata": {},
   "outputs": [],
   "source": [
    "plt.loglog(omega, mu2_f_arr[-1,0,:], label='ip')"
   ]
  },
  {
   "cell_type": "code",
   "execution_count": null,
   "metadata": {},
   "outputs": [],
   "source": [
    "from main.AngMomDist import tau_ed_inv\n",
    "tau_ed_inv(100, 6e-8, -0.47, mu_rms, mu_rms, tumbling=True)"
   ]
  },
  {
   "cell_type": "code",
   "execution_count": 16,
   "metadata": {},
   "outputs": [],
   "source": [
    "from main.SpyDust import SpyDust\n",
    "min_freq=1 # in GHz\n",
    "max_freq=1000 # in GHz\n",
    "n_freq=100\n",
    "aux_SED = SpyDust(env, min_freq=min_freq, max_freq=max_freq, n_freq=n_freq)"
   ]
  },
  {
   "cell_type": "code",
   "execution_count": null,
   "metadata": {},
   "outputs": [],
   "source": [
    "plt.loglog(aux_SED[0,:], aux_SED[1,:])"
   ]
  },
  {
   "cell_type": "code",
   "execution_count": null,
   "metadata": {},
   "outputs": [],
   "source": [
    "aux_SED[-1,:]"
   ]
  },
  {
   "cell_type": "code",
   "execution_count": null,
   "metadata": {},
   "outputs": [],
   "source": [
    "np.linspace(-1, 1, 20)"
   ]
  },
  {
   "cell_type": "markdown",
   "metadata": {},
   "source": [
    "## $\\tilde{f}_\\perp(\\Omega, a, \\beta) \\equiv f(a, \\beta) \\int \\mu_\\perp^2 f(\\Omega, \\boldsymbol{\\mu} | a, \\beta ) \\mathrm{d}^3\\mu$"
   ]
  },
  {
   "cell_type": "code",
   "execution_count": null,
   "metadata": {},
   "outputs": [],
   "source": [
    "from mpi4py import MPI\n",
    "print(MPI.COMM_WORLD.size)"
   ]
  },
  {
   "cell_type": "code",
   "execution_count": null,
   "metadata": {},
   "outputs": [],
   "source": [
    "from main.emissivity import mu2_fa\n",
    "from core.charge_dist import charge_dist"
   ]
  },
  {
   "cell_type": "code",
   "execution_count": null,
   "metadata": {},
   "outputs": [],
   "source": [
    "plt.loglog(aux_SED[0,:], aux_SED[1,:])"
   ]
  },
  {
   "cell_type": "code",
   "execution_count": null,
   "metadata": {},
   "outputs": [],
   "source": [
    "aux_SED[1]"
   ]
  },
  {
   "cell_type": "code",
   "execution_count": null,
   "metadata": {},
   "outputs": [],
   "source": []
  }
 ],
 "metadata": {
  "kernelspec": {
   "display_name": "hydra",
   "language": "python",
   "name": "python3"
  },
  "language_info": {
   "codemirror_mode": {
    "name": "ipython",
    "version": 3
   },
   "file_extension": ".py",
   "mimetype": "text/x-python",
   "name": "python",
   "nbconvert_exporter": "python",
   "pygments_lexer": "ipython3",
   "version": "3.11.5"
  }
 },
 "nbformat": 4,
 "nbformat_minor": 2
}
